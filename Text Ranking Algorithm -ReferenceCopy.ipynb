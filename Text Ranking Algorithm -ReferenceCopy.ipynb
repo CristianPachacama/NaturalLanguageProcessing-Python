{
 "cells": [
  {
   "cell_type": "markdown",
   "metadata": {
    "colab_type": "text",
    "id": "view-in-github"
   },
   "source": [
    "<a href=\"https://colab.research.google.com/github/prateekjoshi565/textrank_text_summarization/blob/master/TestRank_Text_Summarization.ipynb\" target=\"_parent\"><img src=\"https://colab.research.google.com/assets/colab-badge.svg\" alt=\"Open In Colab\"/></a>"
   ]
  },
  {
   "cell_type": "code",
   "execution_count": 1,
   "metadata": {
    "colab": {
     "base_uri": "https://localhost:8080/",
     "height": 54
    },
    "colab_type": "code",
    "id": "WeptlGXN2MnF",
    "outputId": "781281df-51c3-4729-fe6c-7c8401925582"
   },
   "outputs": [
    {
     "name": "stdout",
     "output_type": "stream",
     "text": [
      "[nltk_data] Downloading package punkt to\n",
      "[nltk_data]     C:\\Users\\Lenovo\\AppData\\Roaming\\nltk_data...\n",
      "[nltk_data]   Package punkt is already up-to-date!\n"
     ]
    }
   ],
   "source": [
    "import numpy as np\n",
    "import pandas as pd\n",
    "import nltk\n",
    "from nltk.tokenize import sent_tokenize\n",
    "nltk.download('punkt') # one time execution\n",
    "import re"
   ]
  },
  {
   "cell_type": "code",
   "execution_count": 2,
   "metadata": {
    "colab": {},
    "colab_type": "code",
    "id": "_5FvQ9LHGtja"
   },
   "outputs": [],
   "source": [
    "df = pd.read_csv('D:/DataScienceCollection/GloVe/Data/tennis_articles_v4.csv')"
   ]
  },
  {
   "cell_type": "code",
   "execution_count": 3,
   "metadata": {
    "colab": {
     "base_uri": "https://localhost:8080/",
     "height": 198
    },
    "colab_type": "code",
    "id": "hm6pa5Af4qbE",
    "outputId": "7bf41859-f291-44ae-a785-12cd486a53a1"
   },
   "outputs": [
    {
     "data": {
      "text/html": [
       "<div>\n",
       "<style scoped>\n",
       "    .dataframe tbody tr th:only-of-type {\n",
       "        vertical-align: middle;\n",
       "    }\n",
       "\n",
       "    .dataframe tbody tr th {\n",
       "        vertical-align: top;\n",
       "    }\n",
       "\n",
       "    .dataframe thead th {\n",
       "        text-align: right;\n",
       "    }\n",
       "</style>\n",
       "<table border=\"1\" class=\"dataframe\">\n",
       "  <thead>\n",
       "    <tr style=\"text-align: right;\">\n",
       "      <th></th>\n",
       "      <th>article_id</th>\n",
       "      <th>article_text</th>\n",
       "      <th>source</th>\n",
       "    </tr>\n",
       "  </thead>\n",
       "  <tbody>\n",
       "    <tr>\n",
       "      <th>0</th>\n",
       "      <td>1</td>\n",
       "      <td>Maria Sharapova has basically no friends as te...</td>\n",
       "      <td>https://www.tennisworldusa.org/tennis/news/Mar...</td>\n",
       "    </tr>\n",
       "    <tr>\n",
       "      <th>1</th>\n",
       "      <td>2</td>\n",
       "      <td>BASEL, Switzerland (AP), Roger Federer advance...</td>\n",
       "      <td>http://www.tennis.com/pro-game/2018/10/copil-s...</td>\n",
       "    </tr>\n",
       "    <tr>\n",
       "      <th>2</th>\n",
       "      <td>3</td>\n",
       "      <td>Roger Federer has revealed that organisers of ...</td>\n",
       "      <td>https://scroll.in/field/899938/tennis-roger-fe...</td>\n",
       "    </tr>\n",
       "    <tr>\n",
       "      <th>3</th>\n",
       "      <td>4</td>\n",
       "      <td>Kei Nishikori will try to end his long losing ...</td>\n",
       "      <td>http://www.tennis.com/pro-game/2018/10/nishiko...</td>\n",
       "    </tr>\n",
       "    <tr>\n",
       "      <th>4</th>\n",
       "      <td>5</td>\n",
       "      <td>Federer, 37, first broke through on tour over ...</td>\n",
       "      <td>https://www.express.co.uk/sport/tennis/1036101...</td>\n",
       "    </tr>\n",
       "  </tbody>\n",
       "</table>\n",
       "</div>"
      ],
      "text/plain": [
       "   article_id                                       article_text  \\\n",
       "0           1  Maria Sharapova has basically no friends as te...   \n",
       "1           2  BASEL, Switzerland (AP), Roger Federer advance...   \n",
       "2           3  Roger Federer has revealed that organisers of ...   \n",
       "3           4  Kei Nishikori will try to end his long losing ...   \n",
       "4           5  Federer, 37, first broke through on tour over ...   \n",
       "\n",
       "                                              source  \n",
       "0  https://www.tennisworldusa.org/tennis/news/Mar...  \n",
       "1  http://www.tennis.com/pro-game/2018/10/copil-s...  \n",
       "2  https://scroll.in/field/899938/tennis-roger-fe...  \n",
       "3  http://www.tennis.com/pro-game/2018/10/nishiko...  \n",
       "4  https://www.express.co.uk/sport/tennis/1036101...  "
      ]
     },
     "execution_count": 3,
     "metadata": {},
     "output_type": "execute_result"
    }
   ],
   "source": [
    "df.head()"
   ]
  },
  {
   "cell_type": "code",
   "execution_count": 4,
   "metadata": {
    "colab": {},
    "colab_type": "code",
    "id": "eZVoc3R6G9a8"
   },
   "outputs": [],
   "source": [
    "# split the the text in the articles into sentences\n",
    "sentences = []\n",
    "for s in df['article_text']:\n",
    "  sentences.append(sent_tokenize(s))  "
   ]
  },
  {
   "cell_type": "code",
   "execution_count": 5,
   "metadata": {
    "colab": {},
    "colab_type": "code",
    "id": "V_lwimHsHB9l"
   },
   "outputs": [],
   "source": [
    "# flatten the list\n",
    "sentences = [y for x in sentences for y in x]"
   ]
  },
  {
   "cell_type": "code",
   "execution_count": 6,
   "metadata": {
    "colab": {},
    "colab_type": "code",
    "id": "iHvW8lKFHV1x"
   },
   "outputs": [],
   "source": [
    "# remove punctuations, numbers and special characters\n",
    "clean_sentences = pd.Series(sentences).str.replace(\"[^a-zA-Z]\", \" \")\n",
    "\n",
    "# make alphabets lowercase\n",
    "clean_sentences = [s.lower() for s in clean_sentences]"
   ]
  },
  {
   "cell_type": "code",
   "execution_count": 7,
   "metadata": {},
   "outputs": [
    {
     "data": {
      "text/plain": [
       "['maria sharapova has basically no friends as tennis players on the wta tour ',\n",
       " 'the russian player has no problems in openly speaking about it and in a recent interview she said   i don t really hide any feelings too much ',\n",
       " 'i think everyone knows this is my job here ',\n",
       " 'when i m on the courts or when i m on the court playing  i m a competitor and i want to beat every single person whether they re in the locker room or across the net so i m not the one to strike up a conversation about the weather and know that in the next few minutes i have to go and try to win a tennis match ',\n",
       " 'i m a pretty competitive girl ',\n",
       " 'i say my hellos  but i m not sending any players flowers as well ',\n",
       " 'uhm  i m not really friendly or close to many players ',\n",
       " 'i have not a lot of friends away from the courts  ',\n",
       " 'when she said she is not really close to a lot of players  is that something strategic that she is doing ',\n",
       " 'is it different on the men s tour than the women s tour ',\n",
       " ' no  not at all ',\n",
       " 'i think just because you re in the same sport doesn t mean that you have to be friends with everyone just because you re categorized  you re a tennis player  so you re going to get along with tennis players ',\n",
       " 'i think every person has different interests ',\n",
       " 'i have friends that have completely different jobs and interests  and i ve met them in very different parts of my life ',\n",
       " 'i think everyone just thinks because we re tennis players we should be the greatest of friends ',\n",
       " 'but ultimately tennis is just a very small part of what we do ',\n",
       " 'there are so many other things that we re interested in  that we do  ',\n",
       " 'basel  switzerland  ap   roger federer advanced to the   th swiss indoors final of his career by beating seventh seeded daniil medvedev          on saturday ',\n",
       " 'seeking a ninth title at his hometown event  and a   th overall  federer will play   th ranked marius copil on sunday ',\n",
       " 'federer dominated the   th ranked medvedev and had his first match point chance to break serve again at     ',\n",
       " 'he then dropped his serve to love  and let another match point slip in medvedev s next service game by netting a backhand ',\n",
       " 'he clinched on his fourth chance when medvedev netted from the baseline ',\n",
       " 'copil upset expectations of a federer final against alexander zverev in a                   win over the fifth ranked german in the earlier semifinal ',\n",
       " 'the romanian aims for a first title after arriving at basel without a career win over a top    opponent ',\n",
       " 'copil has two after also beating no ',\n",
       " '  marin cilic in the second round ',\n",
       " 'copil fired    aces past zverev and never dropped serve  clinching after       hours with a forehand volley winner to break zverev for the second time in the semifinal ',\n",
       " 'he came through two rounds of qualifying last weekend to reach the basel main draw  including beating zverev s older brother  mischa ',\n",
       " 'federer had an easier time than in his only previous match against medvedev  a three setter at shanghai two weeks ago ',\n",
       " 'roger federer has revealed that organisers of the re launched and condensed davis cup gave him three days to decide if he would commit to the controversial competition ',\n",
       " 'speaking at the swiss indoors tournament where he will play in sundays final against romanian qualifier marius copil  the world number three said that given the impossibly short time frame to make a decision  he opted out of any commitment ',\n",
       " ' they only left me three days to decide   federer said ',\n",
       " ' i didn t to have time to consult with all the people i had to consult ',\n",
       " ' i could not make a decision in that time  so i told them to do what they wanted  ',\n",
       " 'the    time grand slam champion has voiced doubts about the wisdom of the one week format to be introduced by organisers kosmos  who have promised the international tennis federation up to    billion in prize money over the next quarter century ',\n",
       " 'the competition is set to feature    countries in the november       finals in madrid next year  and will replace the classic home and away ties played four times per year for decades ',\n",
       " 'kosmos is headed by barcelona footballer gerard pique  who is hoping fellow spaniard rafael nadal will play in the upcoming event ',\n",
       " 'novak djokovic has said he will give precedence to the atp s intended re launch of the defunct world team cup in january       at various australian venues ',\n",
       " 'major players feel that a big event in late november combined with one in january before the australian open will mean too much tennis and too little rest ',\n",
       " 'federer said earlier this month in shanghai in that his chances of playing the davis cup were all but non existent ',\n",
       " ' i highly doubt it  of course ',\n",
       " 'we will see what happens   he said ',\n",
       " ' i do not think this was designed for me  anyhow ',\n",
       " 'this was designed for the future generation of players  ',\n",
       " 'argentina and britain received wild cards to the new look event  and will compete along with the four      semi finalists and the    teams who win qualifying rounds next february ',\n",
       " ' i don t like being under that kind of pressure   federer said of the deadline kosmos handed him ',\n",
       " 'kei nishikori will try to end his long losing streak in atp finals and kevin anderson will go for his second title of the year at the erste bank open on sunday ',\n",
       " 'the fifth seeded nishikori reached his third final of      after beating mikhail kukushkin of kazakhstan          in the semifinals ',\n",
       " 'a winner of    atp events  nishikori hasn t triumphed since winning in memphis in february      ',\n",
       " 'he has lost eight straight finals since ',\n",
       " 'the second seeded anderson defeated fernando verdasco               ',\n",
       " 'anderson has a shot at a fifth career title and second of the year after winning in new york in february ',\n",
       " 'nishikori leads anderson     on career matchups  but the south african won their only previous meeting this year ',\n",
       " 'with a victory on sunday  anderson will qualify for the atp finals ',\n",
       " 'currently in ninth place  nishikori with a win could move to within     points of the cut for the eight man event in london next month ',\n",
       " 'nishikori held serve throughout against kukushkin  who came through qualifying ',\n",
       " 'he used his first break point to close out the first set before going up     in the second and wrapping up the win on his first match point ',\n",
       " 'against verdasco  anderson hit nine of his    aces in the opening set ',\n",
       " 'the spaniard broke anderson twice in the second but didn t get another chance on the south african s serve in the final set ',\n",
       " 'federer      first broke through on tour over two decades ago and he has since gone on to enjoy a glittering career ',\n",
       " 'the    time grand slam winner is chasing his   th atp title at the swiss indoors this week and he faces jan lennard struff in the second round on thursday   pm bst  ',\n",
       " 'davenport enjoyed most of her success in the late     s and her third and final major tournament win came at the      australian open ',\n",
       " 'but she claims the mentality of professional tennis players slowly began to change after the new millennium ',\n",
       " ' it seems pretty friendly right now   said davenport ',\n",
       " ' i think there is a really nice environment and a great atmosphere  especially between some of the veteran players helping some of the younger players out ',\n",
       " ' it s a very pleasant atmosphere  i d have to say  around the locker rooms ',\n",
       " ' i felt like the best weeks that i had to get to know players when i was playing were the fed cup weeks or the olympic weeks  not necessarily during the tournaments ',\n",
       " ' and even though maybe we had smaller teams  i still think we kept to ourselves quite a bit ',\n",
       " ' not always  but i really feel like in the mid      years there was a huge shift of the attitudes of the top players and being more friendly and being more giving  and a lot of that had to do with players like roger coming up ',\n",
       " ' i just felt like it really kind of changed where people were a little bit  definitely in the   s  a lot more quiet  into themselves  and then it started to become better  ',\n",
       " 'meanwhile  federer is hoping he can improve his service game as he hunts his ninth swiss indoors title this week ',\n",
       " ' i didn t serve very well  against first round opponent filip kranjovic   federer said ',\n",
       " ' i think i was misfiring the corners  i was not hitting the lines enough ',\n",
       " ' clearly you make your life more difficult  but still i was up           break points  so things could have ended very quickly today  even though i didn t have the best serve percentage stats ',\n",
       " ' but maybe that s exactly what caught up to me eventually ',\n",
       " 'it s just getting used to it ',\n",
       " 'this is where the first rounds can be tricky  ',\n",
       " 'nadal has not played tennis since he was forced to retire from the us open semi finals against juan martin del porto with a knee injury ',\n",
       " 'the world no   has been forced to miss spain s davis cup clash with france and the asian hard court season ',\n",
       " 'but with the atp world tour finals due to begin next month  nadal is ready to prove his fitness before the season ending event at the    arena ',\n",
       " 'nadal flew to paris on friday and footage from the paris masters official twitter account shows the spaniard smiling as he strides onto court for practice ',\n",
       " 'the paris masters draw has been made and nadal will start his campaign on tuesday or wednesday against either fernando verdasco or jeremy chardy ',\n",
       " 'nadal could then play defending champion jack sock in the third round before a potential quarter final with either borna coric or dominic thiem ',\n",
       " 'nadal s appearance in paris is a big boost to the tournament organisers who could see roger federer withdraw ',\n",
       " 'federer is in action at the swiss indoors in basel and if he reaches the final  he could pull out of paris in a bid to stay fresh for london ',\n",
       " 'but as it stands  federer is in the draw and is scheduled to face either former world no   milos raonic or jo wilfried tsonga in the second round ',\n",
       " 'federer s projected route to the paris final could also lead to matches against kevin anderson and novak djokovic ',\n",
       " 'djokovic could play marco cecchinato in the second round ',\n",
       " 'british no   kyle edmund is the   th seed in paris and will get underway in round two against either karen khachanov or filip krajinovic ',\n",
       " 'tennis giveth  and tennis taketh away ',\n",
       " 'the end of the season is finally in sight  and with so many players defending or losing huge chunks of points in singapore  zhuhai and london  podcast co hosts nina pantic and irina falconi discuss the art of defending points         ',\n",
       " 'it s no secret that jack sock has struggled on the singles court this year  his record is       ',\n",
       " 'he could lose       points in the next few weeks  but instead of focusing on the negative  it can all be about perspective         ',\n",
       " 'let s also not forget his two grand slam doubles triumphs this season ',\n",
       " 'two players  stefanos tsitsipas and kyle edmund  won their first career atp titles last week         ',\n",
       " 'it s a big deal because you never forget your first ',\n",
       " 'irina looks back at her wta title win in bogota in       and tells an unforgettable story about her semifinal drama         ',\n",
       " 'in singapore  one of the biggest storylines  aside from the matches  of course  has been the on court coaching debate ',\n",
       " 'nina and irina give their opinions on what coaching should look like in the future  on both tours         ',\n",
       " 'federer won the swiss indoors last week by beating romanian qualifier marius copil in the final ',\n",
       " 'the    year old claimed his   th atp title and is hunting the century in the french capital this week ',\n",
       " 'federer has been handed a difficult draw where could could come across kevin anderson  novak djokovic and rafael nadal in the latter rounds ',\n",
       " 'but first the    time grand slam winner wants to train on the paris masters court this afternoon before deciding whether to appear for his opening match against either milos raonic or jo wilfried tsonga ',\n",
       " ' on monday  i am free and will look how i feel   federer said after winning the swiss indoors ',\n",
       " ' on tuesday i will fly to paris and train in the afternoon to be ready for my first match on wednesday night ',\n",
       " ' i felt good all week and better every day ',\n",
       " ' we also had the impression that at this stage it might be better to play matches than to train ',\n",
       " ' and as long as i fear no injury  i play  ',\n",
       " 'federer s success in basel last week was the ninth time he has won his hometown tournament ',\n",
       " 'and he was delighted to be watched on by all of his family and friends as he purchased    tickets for the final for those dearest to him ',\n",
       " ' my children  my parents  my sister and my team are all there   federer added ',\n",
       " ' it is always very emotional for me to thank my team ',\n",
       " 'and sometimes it tilts with the emotions  sometimes i just stumble ',\n",
       " ' it means the world to me ',\n",
       " 'it makes me incredibly happy to win my home tournament and make people happy here ',\n",
       " ' i do not know if it s maybe my last title  so today i try a lot more to absorb that and enjoy the moments much more consciously ',\n",
       " ' maybe i should celebrate as if it were my last title ',\n",
       " ' there are very touching moments  seeing the ball children  the standing ovations  all the familiar faces in the audience ',\n",
       " 'because it was not always easy in the last weeks  ']"
      ]
     },
     "execution_count": 7,
     "metadata": {},
     "output_type": "execute_result"
    }
   ],
   "source": [
    "clean_sentences"
   ]
  },
  {
   "cell_type": "code",
   "execution_count": 10,
   "metadata": {
    "colab": {
     "base_uri": "https://localhost:8080/",
     "height": 72
    },
    "colab_type": "code",
    "id": "iPBZsdeWHlHf",
    "outputId": "80775577-1018-423b-9fc5-abfe52aebb88"
   },
   "outputs": [
    {
     "name": "stdout",
     "output_type": "stream",
     "text": [
      "[nltk_data] Downloading package stopwords to /root/nltk_data...\n",
      "[nltk_data]   Unzipping corpora/stopwords.zip.\n"
     ]
    },
    {
     "data": {
      "text/plain": [
       "True"
      ]
     },
     "execution_count": 10,
     "metadata": {
      "tags": []
     },
     "output_type": "execute_result"
    }
   ],
   "source": [
    "nltk.download('stopwords')# one time execution"
   ]
  },
  {
   "cell_type": "code",
   "execution_count": 0,
   "metadata": {
    "colab": {},
    "colab_type": "code",
    "id": "UKk_3HZ-Idjm"
   },
   "outputs": [],
   "source": [
    "from nltk.corpus import stopwords\n",
    "stop_words = stopwords.words('english')"
   ]
  },
  {
   "cell_type": "code",
   "execution_count": 0,
   "metadata": {
    "colab": {},
    "colab_type": "code",
    "id": "RX_NFApzIkmC"
   },
   "outputs": [],
   "source": [
    "# function to remove stopwords\n",
    "def remove_stopwords(sen):\n",
    "  sen_new = \" \".join([i for i in sen if i not in stop_words])\n",
    "  return sen_new"
   ]
  },
  {
   "cell_type": "code",
   "execution_count": 0,
   "metadata": {
    "colab": {},
    "colab_type": "code",
    "id": "OcFap_w9Ivob"
   },
   "outputs": [],
   "source": [
    "# remove stopwords from the sentences\n",
    "clean_sentences = [remove_stopwords(r.split()) for r in clean_sentences]"
   ]
  },
  {
   "cell_type": "code",
   "execution_count": 14,
   "metadata": {
    "colab": {
     "base_uri": "https://localhost:8080/",
     "height": 290
    },
    "colab_type": "code",
    "id": "a5Skjq6DJUtQ",
    "outputId": "eeba2eed-d0ed-42f8-f45f-dea8a99bcb5b"
   },
   "outputs": [
    {
     "name": "stdout",
     "output_type": "stream",
     "text": [
      "--2018-11-05 07:03:13--  http://nlp.stanford.edu/data/glove.6B.zip\n",
      "Resolving nlp.stanford.edu (nlp.stanford.edu)... 171.64.67.140\n",
      "Connecting to nlp.stanford.edu (nlp.stanford.edu)|171.64.67.140|:80... connected.\n",
      "HTTP request sent, awaiting response... 302 Found\n",
      "Location: https://nlp.stanford.edu/data/glove.6B.zip [following]\n",
      "--2018-11-05 07:03:13--  https://nlp.stanford.edu/data/glove.6B.zip\n",
      "Connecting to nlp.stanford.edu (nlp.stanford.edu)|171.64.67.140|:443... connected.\n",
      "HTTP request sent, awaiting response... 200 OK\n",
      "Length: 862182613 (822M) [application/zip]\n",
      "Saving to: ‘glove.6B.zip’\n",
      "\n",
      "glove.6B.zip        100%[===================>] 822.24M  9.59MB/s    in 56s     \n",
      "\n",
      "2018-11-05 07:04:10 (14.6 MB/s) - ‘glove.6B.zip’ saved [862182613/862182613]\n",
      "\n"
     ]
    }
   ],
   "source": [
    "# download pretrained GloVe word embeddings\n",
    "! wget http://nlp.stanford.edu/data/glove.6B.zip"
   ]
  },
  {
   "cell_type": "code",
   "execution_count": 15,
   "metadata": {
    "colab": {
     "base_uri": "https://localhost:8080/",
     "height": 108
    },
    "colab_type": "code",
    "id": "K_GXHzwDJq-2",
    "outputId": "9387687a-04f5-41d9-f525-b6bca3b8f97c"
   },
   "outputs": [
    {
     "name": "stdout",
     "output_type": "stream",
     "text": [
      "Archive:  glove.6B.zip\n",
      "  inflating: glove.6B.50d.txt        \n",
      "  inflating: glove.6B.100d.txt       \n",
      "  inflating: glove.6B.200d.txt       \n",
      "  inflating: glove.6B.300d.txt       \n"
     ]
    }
   ],
   "source": [
    "! unzip glove*.zip"
   ]
  },
  {
   "cell_type": "code",
   "execution_count": 0,
   "metadata": {
    "colab": {},
    "colab_type": "code",
    "id": "TsXIa7CBKsWQ"
   },
   "outputs": [],
   "source": [
    "# Extract word vectors\n",
    "word_embeddings = {}\n",
    "f = open('glove.6B.100d.txt', encoding='utf-8')\n",
    "for line in f:\n",
    "    values = line.split()\n",
    "    word = values[0]\n",
    "    coefs = np.asarray(values[1:], dtype='float32')\n",
    "    word_embeddings[word] = coefs\n",
    "f.close()"
   ]
  },
  {
   "cell_type": "code",
   "execution_count": 0,
   "metadata": {
    "colab": {},
    "colab_type": "code",
    "id": "N3VtdSPyKxUZ"
   },
   "outputs": [],
   "source": [
    "sentence_vectors = []\n",
    "for i in clean_sentences:\n",
    "  if len(i) != 0:\n",
    "    v = sum([word_embeddings.get(w, np.zeros((100,))) for w in i.split()])/(len(i.split())+0.001)\n",
    "  else:\n",
    "    v = np.zeros((100,))\n",
    "  sentence_vectors.append(v)"
   ]
  },
  {
   "cell_type": "code",
   "execution_count": 18,
   "metadata": {
    "colab": {
     "base_uri": "https://localhost:8080/",
     "height": 35
    },
    "colab_type": "code",
    "id": "e3Iww3I9LYhJ",
    "outputId": "362a7dd8-b1bf-4478-ef59-34728fbbd8b2"
   },
   "outputs": [
    {
     "data": {
      "text/plain": [
       "119"
      ]
     },
     "execution_count": 18,
     "metadata": {
      "tags": []
     },
     "output_type": "execute_result"
    }
   ],
   "source": [
    "len(sentence_vectors)"
   ]
  },
  {
   "cell_type": "markdown",
   "metadata": {
    "colab_type": "text",
    "id": "1bh9L2pqL3gp"
   },
   "source": [
    "The next step is to find similarities among the sentences. We will use cosine similarity to find similarity between a pair of sentences. Let's create an empty similarity matrix for this task and populate it with cosine similarities of the sentences."
   ]
  },
  {
   "cell_type": "code",
   "execution_count": 0,
   "metadata": {
    "colab": {},
    "colab_type": "code",
    "id": "mm_fNZpOLxbM"
   },
   "outputs": [],
   "source": [
    "# similarity matrix\n",
    "sim_mat = np.zeros([len(sentences), len(sentences)])"
   ]
  },
  {
   "cell_type": "code",
   "execution_count": 0,
   "metadata": {
    "colab": {},
    "colab_type": "code",
    "id": "oVeHkvf0MO1j"
   },
   "outputs": [],
   "source": [
    "from sklearn.metrics.pairwise import cosine_similarity"
   ]
  },
  {
   "cell_type": "code",
   "execution_count": 0,
   "metadata": {
    "colab": {},
    "colab_type": "code",
    "id": "xTAAe-q3L4xM"
   },
   "outputs": [],
   "source": [
    "for i in range(len(sentences)):\n",
    "  for j in range(len(sentences)):\n",
    "    if i != j:\n",
    "      sim_mat[i][j] = cosine_similarity(sentence_vectors[i].reshape(1,100), sentence_vectors[j].reshape(1,100))[0,0]"
   ]
  },
  {
   "cell_type": "code",
   "execution_count": 0,
   "metadata": {
    "colab": {},
    "colab_type": "code",
    "id": "CAQUnNRWL_tA"
   },
   "outputs": [],
   "source": [
    "import networkx as nx\n",
    "\n",
    "nx_graph = nx.from_numpy_array(sim_mat)\n",
    "scores = nx.pagerank(nx_graph)"
   ]
  },
  {
   "cell_type": "code",
   "execution_count": 0,
   "metadata": {
    "colab": {},
    "colab_type": "code",
    "id": "aQCcvT3yO5Xj"
   },
   "outputs": [],
   "source": [
    "ranked_sentences = sorted(((scores[i],s) for i,s in enumerate(sentences)), reverse=True)"
   ]
  },
  {
   "cell_type": "code",
   "execution_count": 26,
   "metadata": {
    "colab": {
     "base_uri": "https://localhost:8080/",
     "height": 219
    },
    "colab_type": "code",
    "id": "jwxtPBlgO_Gk",
    "outputId": "94f7a32b-fcd3-4295-ec49-4fb69e49342e"
   },
   "outputs": [
    {
     "name": "stdout",
     "output_type": "stream",
     "text": [
      "When I'm on the courts or when I'm on the court playing, I'm a competitor and I want to beat every single person whether they're in the locker room or across the net.So I'm not the one to strike up a conversation about the weather and know that in the next few minutes I have to go and try to win a tennis match.\n",
      "Major players feel that a big event in late November combined with one in January before the Australian Open will mean too much tennis and too little rest.\n",
      "Speaking at the Swiss Indoors tournament where he will play in Sundays final against Romanian qualifier Marius Copil, the world number three said that given the impossibly short time frame to make a decision, he opted out of any commitment.\n",
      "\"I felt like the best weeks that I had to get to know players when I was playing were the Fed Cup weeks or the Olympic weeks, not necessarily during the tournaments.\n",
      "Currently in ninth place, Nishikori with a win could move to within 125 points of the cut for the eight-man event in London next month.\n",
      "He used his first break point to close out the first set before going up 3-0 in the second and wrapping up the win on his first match point.\n",
      "The Spaniard broke Anderson twice in the second but didn't get another chance on the South African's serve in the final set.\n",
      "\"We also had the impression that at this stage it might be better to play matches than to train.\n",
      "The competition is set to feature 18 countries in the November 18-24 finals in Madrid next year, and will replace the classic home-and-away ties played four times per year for decades.\n",
      "Federer said earlier this month in Shanghai in that his chances of playing the Davis Cup were all but non-existent.\n"
     ]
    }
   ],
   "source": [
    "# Specify number of sentences to form the summary\n",
    "sn = 10\n",
    "\n",
    "# Generate summary\n",
    "for i in range(sn):\n",
    "  print(ranked_sentences[i][1])"
   ]
  },
  {
   "cell_type": "markdown",
   "metadata": {
    "colab_type": "text",
    "id": "zIkZr_lds-kr"
   },
   "source": [
    "Find the original article here https://www.analyticsvidhya.com/blog/2018/11/introduction-text-summarization-textrank-python/"
   ]
  }
 ],
 "metadata": {
  "accelerator": "GPU",
  "colab": {
   "collapsed_sections": [],
   "include_colab_link": true,
   "name": "TestRank_Text_Summarization.ipynb",
   "provenance": [],
   "version": "0.3.2"
  },
  "kernelspec": {
   "display_name": "Python 3",
   "language": "python",
   "name": "python3"
  },
  "language_info": {
   "codemirror_mode": {
    "name": "ipython",
    "version": 3
   },
   "file_extension": ".py",
   "mimetype": "text/x-python",
   "name": "python",
   "nbconvert_exporter": "python",
   "pygments_lexer": "ipython3",
   "version": "3.6.4"
  }
 },
 "nbformat": 4,
 "nbformat_minor": 1
}
