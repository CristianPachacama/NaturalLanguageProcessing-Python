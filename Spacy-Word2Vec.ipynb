{
 "cells": [
  {
   "attachments": {},
   "cell_type": "markdown",
   "metadata": {},
   "source": [
    "#### THEORY: Follow the below illustrations to understand W2V concept!\n"
   ]
  },
  {
   "cell_type": "markdown",
   "metadata": {},
   "source": [
    "![image](https://user-images.githubusercontent.com/689226/50559588-b3e7be80-0d1e-11e9-8870-445edd02c139.png)\n"
   ]
  },
  {
   "cell_type": "markdown",
   "metadata": {},
   "source": [
    "![image](https://user-images.githubusercontent.com/689226/50559615-eb566b00-0d1e-11e9-8c56-d90347ac01af.png)\n",
    "\n"
   ]
  },
  {
   "cell_type": "markdown",
   "metadata": {},
   "source": [
    "\n",
    "![image](https://user-images.githubusercontent.com/689226/50559629-09bc6680-0d1f-11e9-9314-f9cbecdba2da.png)"
   ]
  },
  {
   "cell_type": "markdown",
   "metadata": {},
   "source": [
    "![image](https://user-images.githubusercontent.com/689226/50559646-2fe20680-0d1f-11e9-826d-ead5e94e268b.png)\n"
   ]
  },
  {
   "cell_type": "markdown",
   "metadata": {},
   "source": [
    "![image](https://user-images.githubusercontent.com/689226/50559672-4d16d500-0d1f-11e9-843e-6c77fc8b9ef0.png)\n"
   ]
  },
  {
   "cell_type": "code",
   "execution_count": null,
   "metadata": {},
   "outputs": [],
   "source": [
    "import spacy\n",
    "nlp = spacy.load('en_core_web_lg')  #Choosing the larger one - \"lg\""
   ]
  },
  {
   "cell_type": "code",
   "execution_count": null,
   "metadata": {},
   "outputs": [],
   "source": [
    "tokens = nlp(u'dog cat banana')\n",
    "\n",
    "for token1 in tokens:\n",
    "    for token2 in tokens:\n",
    "        print(token1.text, token2.text, token1.similarity(token2))"
   ]
  },
  {
   "cell_type": "code",
   "execution_count": 17,
   "metadata": {},
   "outputs": [],
   "source": [
    "#This loooks just fine.\n",
    "#But poorly works with examples like below.."
   ]
  },
  {
   "cell_type": "code",
   "execution_count": 21,
   "metadata": {},
   "outputs": [
    {
     "name": "stdout",
     "output_type": "stream",
     "text": [
      "man man 1.0\n",
      "man brave 0.4687047\n",
      "man king 0.40884617\n",
      "man and 0.3440947\n",
      "man women 0.45256585\n",
      "man beautiful 0.37816587\n",
      "man queen 0.27109137\n",
      "brave man 0.4687047\n",
      "brave brave 1.0\n",
      "brave king 0.3280089\n",
      "brave and 0.24658339\n",
      "brave women 0.3400278\n",
      "brave beautiful 0.3714461\n",
      "brave queen 0.31917185\n",
      "king man 0.40884617\n",
      "king brave 0.3280089\n",
      "king king 1.0\n",
      "king and 0.27538317\n",
      "king women 0.1680698\n",
      "king beautiful 0.21729226\n",
      "king queen 0.72526103\n",
      "and man 0.3440947\n",
      "and brave 0.24658339\n",
      "and king 0.27538317\n",
      "and and 1.0\n",
      "and women 0.36823362\n",
      "and beautiful 0.37451503\n",
      "and queen 0.22077888\n",
      "women man 0.45256585\n",
      "women brave 0.3400278\n",
      "women king 0.1680698\n",
      "women and 0.36823362\n",
      "women women 1.0\n",
      "women beautiful 0.33176085\n",
      "women queen 0.2862379\n",
      "beautiful man 0.37816587\n",
      "beautiful brave 0.3714461\n",
      "beautiful king 0.21729226\n",
      "beautiful and 0.37451503\n",
      "beautiful women 0.33176085\n",
      "beautiful beautiful 1.0\n",
      "beautiful queen 0.3514231\n",
      "queen man 0.27109137\n",
      "queen brave 0.31917185\n",
      "queen king 0.72526103\n",
      "queen and 0.22077888\n",
      "queen women 0.2862379\n",
      "queen beautiful 0.3514231\n",
      "queen queen 1.0\n"
     ]
    }
   ],
   "source": [
    "tokens = nlp(u'man brave king and women beautiful queen')\n",
    "\n",
    "for token1 in tokens:\n",
    "    for token2 in tokens:\n",
    "        print(token1.text, token2.text, token1.similarity(token2))"
   ]
  },
  {
   "cell_type": "code",
   "execution_count": 18,
   "metadata": {},
   "outputs": [
    {
     "name": "stdout",
     "output_type": "stream",
     "text": [
      "dog dog 1.0\n",
      "dog and 0.2966885\n",
      "dog jackal 0.24102436\n",
      "dog is 0.33961135\n",
      "dog like 0.36687168\n",
      "dog cat 0.80168545\n",
      "dog and 0.2966885\n",
      "dog lion 0.47424486\n",
      "and dog 0.2966885\n",
      "and and 1.0\n",
      "and jackal -0.022540377\n",
      "and is 0.45814785\n",
      "and like 0.5267484\n",
      "and cat 0.2383505\n",
      "and and 1.0\n",
      "and lion 0.19124143\n",
      "jackal dog 0.24102436\n",
      "jackal and -0.022540377\n",
      "jackal jackal 1.0\n",
      "jackal is -0.017124852\n",
      "jackal like 0.044634186\n",
      "jackal cat 0.31780094\n",
      "jackal and -0.022540377\n",
      "jackal lion 0.5582606\n",
      "is dog 0.33961135\n",
      "is and 0.45814785\n",
      "is jackal -0.017124852\n",
      "is is 1.0\n",
      "is like 0.454775\n",
      "is cat 0.28220233\n",
      "is and 0.45814785\n",
      "is lion 0.20940298\n",
      "like dog 0.36687168\n",
      "like and 0.5267484\n",
      "like jackal 0.044634186\n",
      "like is 0.454775\n",
      "like like 1.0\n",
      "like cat 0.35981405\n",
      "like and 0.5267484\n",
      "like lion 0.25614715\n",
      "cat dog 0.80168545\n",
      "cat and 0.2383505\n",
      "cat jackal 0.31780094\n",
      "cat is 0.28220233\n",
      "cat like 0.35981405\n",
      "cat cat 1.0\n",
      "cat and 0.2383505\n",
      "cat lion 0.52654374\n",
      "and dog 0.2966885\n",
      "and and 1.0\n",
      "and jackal -0.022540377\n",
      "and is 0.45814785\n",
      "and like 0.5267484\n",
      "and cat 0.2383505\n",
      "and and 1.0\n",
      "and lion 0.19124143\n",
      "lion dog 0.47424486\n",
      "lion and 0.19124143\n",
      "lion jackal 0.5582606\n",
      "lion is 0.20940298\n",
      "lion like 0.25614715\n",
      "lion cat 0.52654374\n",
      "lion and 0.19124143\n",
      "lion lion 1.0\n"
     ]
    }
   ],
   "source": [
    "tokens = nlp(u'dog and jackal is like cat and lion')\n",
    "\n",
    "for token1 in tokens:\n",
    "    for token2 in tokens:\n",
    "        print(token1.text, token2.text, token1.similarity(token2))"
   ]
  },
  {
   "cell_type": "markdown",
   "metadata": {},
   "source": [
    "![image](https://user-images.githubusercontent.com/689226/50559351-0c698c80-0d1c-11e9-97c9-b4961f6601a3.png)\n"
   ]
  },
  {
   "cell_type": "code",
   "execution_count": null,
   "metadata": {},
   "outputs": [],
   "source": []
  }
 ],
 "metadata": {
  "kernelspec": {
   "display_name": "Python 3",
   "language": "python",
   "name": "python3"
  },
  "language_info": {
   "codemirror_mode": {
    "name": "ipython",
    "version": 3
   },
   "file_extension": ".py",
   "mimetype": "text/x-python",
   "name": "python",
   "nbconvert_exporter": "python",
   "pygments_lexer": "ipython3",
   "version": "3.6.5"
  }
 },
 "nbformat": 4,
 "nbformat_minor": 2
}
